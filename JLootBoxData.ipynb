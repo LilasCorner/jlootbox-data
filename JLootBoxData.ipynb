{
  "nbformat": 4,
  "nbformat_minor": 0,
  "metadata": {
    "colab": {
      "name": "JLootBoxData.ipynb",
      "provenance": [],
      "collapsed_sections": [],
      "authorship_tag": "ABX9TyPjpNQlS55KyB+0aj0gOGsC",
      "include_colab_link": true
    },
    "kernelspec": {
      "name": "python3",
      "display_name": "Python 3"
    },
    "language_info": {
      "name": "python"
    }
  },
  "cells": [
    {
      "cell_type": "markdown",
      "metadata": {
        "id": "view-in-github",
        "colab_type": "text"
      },
      "source": [
        "<a href=\"https://colab.research.google.com/github/LilasCorner/jlootbox-data/blob/main/JLootBoxData.ipynb\" target=\"_parent\"><img src=\"https://colab.research.google.com/assets/colab-badge.svg\" alt=\"Open In Colab\"/></a>"
      ]
    },
    {
      "cell_type": "code",
      "execution_count": 21,
      "metadata": {
        "id": "-z2XMI6fdUZw"
      },
      "outputs": [],
      "source": [
        "import matplotlib.pyplot as plt\n",
        "from matplotlib import figure\n",
        "import numpy as np\n",
        "from numpy import asarray\n",
        "import pandas as pd\n",
        "import seaborn as sns"
      ]
    },
    {
      "cell_type": "code",
      "source": [
        "#creating and joining dataframes \n",
        "\n",
        "paramsdf = pd.read_csv(\"https://raw.githubusercontent.com/LilasCorner/jlootbox-data/main/CombinedParams.csv\",skip_blank_lines=True)\n",
        "\n",
        "moneydf = pd.read_csv(\"https://raw.githubusercontent.com/LilasCorner/jlootbox-data/main/moneyCombined.csv\",skip_blank_lines=True)\n",
        "freqdf = pd.read_csv(\"https://raw.githubusercontent.com/LilasCorner/jlootbox-data/main/purchaseCombined.csv\",skip_blank_lines=True)\n",
        "thresdf = pd.read_csv(\"https://raw.githubusercontent.com/LilasCorner/jlootbox-data/main/thresholdCombined.csv\",skip_blank_lines=True)\n",
        "\n",
        "mergedmoney = paramsdf.set_index('run').join(moneydf.set_index('run'))\n",
        "mergedfreq = freqdf.set_index('run').join(paramsdf.set_index('run'))\n",
        "mergedthres = thresdf.set_index('run').join(paramsdf.set_index('run'))\n",
        "\n",
        "print(mergedmoney.head)\n"
      ],
      "metadata": {
        "id": "2GHWm5HFn9hV",
        "colab": {
          "base_uri": "https://localhost:8080/"
        },
        "outputId": "96731200-cce8-4573-f211-8bc566a92bfd"
      },
      "execution_count": 24,
      "outputs": [
        {
          "output_type": "stream",
          "name": "stdout",
          "text": [
            "<bound method NDFrame.head of       randomSeed  stopTime manip  numPlayers  strat  network tick moneySpent\n",
            "run                                                                         \n",
            "5       29080477       500  NONE         100  PRICE    WATTS  NaN        NaN\n",
            "5       29080477       500  NONE         100  PRICE    WATTS  NaN        NaN\n",
            "5       29080477       500  NONE         100  PRICE    WATTS  NaN        NaN\n",
            "6       25869690       500  NONE         121  PRICE  LATTICE  NaN        NaN\n",
            "6       29083002       500  NONE         100  PRICE   RANDOM  NaN        NaN\n",
            "...          ...       ...   ...         ...    ...      ...  ...        ...\n",
            "3941    29104086       500  NONE         700  PRICE    WATTS  NaN        NaN\n",
            "3941    29104086       500  NONE         700  PRICE    WATTS  NaN        NaN\n",
            "5654    29121148       500  NONE         900  PRICE   RANDOM  NaN        NaN\n",
            "5654    29121148       500  NONE         900  PRICE   RANDOM  NaN        NaN\n",
            "5654    29121148       500  NONE         900  PRICE   RANDOM  NaN        NaN\n",
            "\n",
            "[511 rows x 8 columns]>\n"
          ]
        }
      ]
    },
    {
      "cell_type": "code",
      "source": [
        "#WATTS\n",
        "\n",
        "plt.title('Watts Network Average Money Spent')\n",
        "sns.set(rc = {'figure.figsize':(15,8)})\n",
        "sns.lineplot(x=time_df['tick'], y=time_df['Coin Price'], hue=time_df['run'])"
      ],
      "metadata": {
        "id": "4oHrJUUatL1p"
      },
      "execution_count": 22,
      "outputs": []
    },
    {
      "cell_type": "code",
      "source": [
        "#WATTS\n",
        "\n",
        "plt.title('Watts Network Average Purchase Frequency')"
      ],
      "metadata": {
        "id": "EmPIcQZzwvhh"
      },
      "execution_count": null,
      "outputs": []
    },
    {
      "cell_type": "code",
      "source": [
        "#WATTS\n",
        "\n",
        "plt.title('Watts Network Average Buy Threshold')"
      ],
      "metadata": {
        "id": "oPbRYvWzwzwz"
      },
      "execution_count": null,
      "outputs": []
    },
    {
      "cell_type": "code",
      "source": [
        "#RANDOM\n",
        "\n",
        "plt.title('Random Density Network Average Money Spent')\n"
      ],
      "metadata": {
        "id": "a8FVXLYYwREk"
      },
      "execution_count": null,
      "outputs": []
    },
    {
      "cell_type": "code",
      "source": [
        "#RANDOM\n",
        "\n",
        "plt.title('Random Density Network Average Purchase Frequency')"
      ],
      "metadata": {
        "id": "WB8dJO23xG9T"
      },
      "execution_count": null,
      "outputs": []
    },
    {
      "cell_type": "code",
      "source": [
        "#RANDOM\n",
        "\n",
        "plt.title('Random Density Network Average Buy Threshold')"
      ],
      "metadata": {
        "id": "7PZ_ECC4wSnC"
      },
      "execution_count": null,
      "outputs": []
    }
  ]
}